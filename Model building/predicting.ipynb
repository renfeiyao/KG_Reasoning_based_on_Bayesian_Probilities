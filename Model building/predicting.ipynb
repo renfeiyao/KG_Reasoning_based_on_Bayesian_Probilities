{
 "cells": [
  {
   "cell_type": "code",
   "execution_count": 1,
   "id": "c378d56f",
   "metadata": {},
   "outputs": [],
   "source": [
    "PATH='C:\\\\Users\\\\paper\\\\knowledge_center\\\\'\n",
    "import pandas as pd\n",
    "from sklearn.model_selection import train_test_split\n",
    "from pgmpy.models import BayesianNetwork\n",
    "from pgmpy.estimators import MaximumLikelihoodEstimator, BayesianEstimator\n",
    "import time"
   ]
  },
  {
   "cell_type": "code",
   "execution_count": 2,
   "id": "5196b7f0",
   "metadata": {},
   "outputs": [],
   "source": [
    "#cutting和supporting为空\n",
    "D=pd.read_pickle(PATH+'D.pkl').drop(['Cutting','Stabilization','Supporting','Seriflux'],axis=1).sort_values(by='Project')[:31]\n",
    "D_train, D_test=train_test_split(D, test_size=0.33, random_state=42)"
   ]
  },
  {
   "cell_type": "code",
   "execution_count": 3,
   "id": "4074a507",
   "metadata": {},
   "outputs": [],
   "source": [
    "D_test.to_csv(PATH+'D_test.csv')"
   ]
  },
  {
   "cell_type": "code",
   "execution_count": 2,
   "id": "3c8a4448",
   "metadata": {},
   "outputs": [
    {
     "name": "stdout",
     "output_type": "stream",
     "text": [
      "time: 264.8555507659912\n"
     ]
    }
   ],
   "source": [
    "start=time.time()\n",
    "model= BayesianNetwork.load(PATH+'BN_test5.bif', filetype='bif')\n",
    "end=time.time()\n",
    "print('time:',end-start)"
   ]
  },
  {
   "cell_type": "code",
   "execution_count": 6,
   "id": "88c0f67e",
   "metadata": {},
   "outputs": [],
   "source": [
    "df=pd.DataFrame(index=D_test.index)"
   ]
  },
  {
   "cell_type": "code",
   "execution_count": 10,
   "id": "e5bef926",
   "metadata": {},
   "outputs": [
    {
     "data": {
      "application/vnd.jupyter.widget-view+json": {
       "model_id": "055d9df0957b48679142e61b2dc609f7",
       "version_major": 2,
       "version_minor": 0
      },
      "text/plain": [
       "  0%|          | 0/11 [00:00<?, ?it/s]"
      ]
     },
     "metadata": {},
     "output_type": "display_data"
    },
    {
     "name": "stdout",
     "output_type": "stream",
     "text": [
      "Phenomenon\n"
     ]
    },
    {
     "data": {
      "application/vnd.jupyter.widget-view+json": {
       "model_id": "bf6b04283bf14c9284c025989cced0bb",
       "version_major": 2,
       "version_minor": 0
      },
      "text/plain": [
       "  0%|          | 0/11 [00:00<?, ?it/s]"
      ]
     },
     "metadata": {},
     "output_type": "display_data"
    },
    {
     "name": "stdout",
     "output_type": "stream",
     "text": [
      "Location\n"
     ]
    },
    {
     "data": {
      "application/vnd.jupyter.widget-view+json": {
       "model_id": "329de3ae4fc649c888bc3f7fcc09105b",
       "version_major": 2,
       "version_minor": 0
      },
      "text/plain": [
       "  0%|          | 0/11 [00:00<?, ?it/s]"
      ]
     },
     "metadata": {},
     "output_type": "display_data"
    },
    {
     "name": "stdout",
     "output_type": "stream",
     "text": [
      "Tunnel\n"
     ]
    },
    {
     "data": {
      "application/vnd.jupyter.widget-view+json": {
       "model_id": "a1545cf94d2f44a7b2343b6faf54d58f",
       "version_major": 2,
       "version_minor": 0
      },
      "text/plain": [
       "  0%|          | 0/11 [00:00<?, ?it/s]"
      ]
     },
     "metadata": {},
     "output_type": "display_data"
    },
    {
     "name": "stdout",
     "output_type": "stream",
     "text": [
      "Shield\n"
     ]
    },
    {
     "data": {
      "application/vnd.jupyter.widget-view+json": {
       "model_id": "7ebf772b36214308987c9e73e2f8cf42",
       "version_major": 2,
       "version_minor": 0
      },
      "text/plain": [
       "  0%|          | 0/11 [00:00<?, ?it/s]"
      ]
     },
     "metadata": {},
     "output_type": "display_data"
    },
    {
     "name": "stdout",
     "output_type": "stream",
     "text": [
      "Segment\n"
     ]
    },
    {
     "data": {
      "application/vnd.jupyter.widget-view+json": {
       "model_id": "de39445215e54891b8c5f2b8b072164b",
       "version_major": 2,
       "version_minor": 0
      },
      "text/plain": [
       "  0%|          | 0/11 [00:00<?, ?it/s]"
      ]
     },
     "metadata": {},
     "output_type": "display_data"
    },
    {
     "name": "stdout",
     "output_type": "stream",
     "text": [
      "Geology\n"
     ]
    },
    {
     "data": {
      "application/vnd.jupyter.widget-view+json": {
       "model_id": "f9be8b9dc2344c57af06623f973664d6",
       "version_major": 2,
       "version_minor": 0
      },
      "text/plain": [
       "  0%|          | 0/11 [00:00<?, ?it/s]"
      ]
     },
     "metadata": {},
     "output_type": "display_data"
    },
    {
     "name": "stdout",
     "output_type": "stream",
     "text": [
      "Propelling\n"
     ]
    },
    {
     "data": {
      "application/vnd.jupyter.widget-view+json": {
       "model_id": "c2b31f0cee5c4cdb93c1c61852bc6490",
       "version_major": 2,
       "version_minor": 0
      },
      "text/plain": [
       "  0%|          | 0/11 [00:00<?, ?it/s]"
      ]
     },
     "metadata": {},
     "output_type": "display_data"
    },
    {
     "name": "stdout",
     "output_type": "stream",
     "text": [
      "Grouting\n"
     ]
    },
    {
     "data": {
      "application/vnd.jupyter.widget-view+json": {
       "model_id": "9703a937027c47eb967bb0c87e4c44d3",
       "version_major": 2,
       "version_minor": 0
      },
      "text/plain": [
       "  0%|          | 0/8 [00:00<?, ?it/s]"
      ]
     },
     "metadata": {},
     "output_type": "display_data"
    },
    {
     "name": "stdout",
     "output_type": "stream",
     "text": [
      "Target\n"
     ]
    },
    {
     "name": "stderr",
     "output_type": "stream",
     "text": [
      "G:\\anaconda\\anaconda\\lib\\site-packages\\pgmpy\\factors\\discrete\\DiscreteFactor.py:472: RuntimeWarning: invalid value encountered in true_divide\n",
      "  phi.values = phi.values / phi.values.sum()\n"
     ]
    },
    {
     "data": {
      "application/vnd.jupyter.widget-view+json": {
       "model_id": "08c8c00e01de4ad4a3d00fee162912d8",
       "version_major": 2,
       "version_minor": 0
      },
      "text/plain": [
       "  0%|          | 0/11 [00:00<?, ?it/s]"
      ]
     },
     "metadata": {},
     "output_type": "display_data"
    },
    {
     "name": "stdout",
     "output_type": "stream",
     "text": [
      "Project\n",
      "   Phenomenon Location Tunnel Shield Segment Geology Propelling Grouting  \\\n",
      "48        NaN      NaN    NaN    NaN     NaN     NaN        NaN      NaN   \n",
      "8       E0149    E0374  E0034  E0045   E0056   E0071       NULL    E0102   \n",
      "45        NaN      NaN    NaN    NaN     NaN     NaN        NaN      NaN   \n",
      "41        NaN      NaN    NaN    NaN     NaN     NaN        NaN      NaN   \n",
      "34        NaN      NaN    NaN    NaN     NaN     NaN        NaN      NaN   \n",
      "33        NaN      NaN    NaN    NaN     NaN     NaN        NaN      NaN   \n",
      "12        NaN      NaN    NaN    NaN     NaN     NaN        NaN      NaN   \n",
      "46        NaN      NaN    NaN    NaN     NaN     NaN        NaN      NaN   \n",
      "37        NaN      NaN    NaN    NaN     NaN     NaN        NaN      NaN   \n",
      "1       E0193    E0374  E0034  E0045   E0056   E0071       NULL     NULL   \n",
      "31        NaN      NaN    NaN    NaN     NaN     NaN        NaN      NaN   \n",
      "\n",
      "   Target Project  \n",
      "48    NaN     NaN  \n",
      "8   E0281   E0001  \n",
      "45    NaN     NaN  \n",
      "41    NaN     NaN  \n",
      "34    NaN     NaN  \n",
      "33    NaN     NaN  \n",
      "12    NaN     NaN  \n",
      "46    NaN     NaN  \n",
      "37    NaN     NaN  \n",
      "1   E0253   E0004  \n",
      "31    NaN     NaN  \n",
      "time: 17005.65002822876\n"
     ]
    }
   ],
   "source": [
    "start=time.time()\n",
    "for i in D.columns.values:\n",
    "    possibilities=model.predict_probability(D_test.drop([i],axis=1))\n",
    "    possibilities.to_csv(PATH+'predict_results\\\\'+i+'_possibilities.csv')\n",
    "    results=model.predict(D_test.drop([i],axis=1))\n",
    "    results.to_csv(PATH+'predict_results\\\\'+i+'_results.csv')\n",
    "    df.loc[:,i]=results\n",
    "    print(i)\n",
    "    #for t in df.index:\n",
    "        #df.loc[t,i+'_possibilities']=possibilities.loc[t,i+'_'+results.loc[t,i]]\n",
    "end=time.time()\n",
    "print(df)\n",
    "print('time:',end-start)\n"
   ]
  },
  {
   "cell_type": "code",
   "execution_count": null,
   "id": "a1a8401d",
   "metadata": {},
   "outputs": [],
   "source": []
  }
 ],
 "metadata": {
  "kernelspec": {
   "display_name": "Python 3 (ipykernel)",
   "language": "python",
   "name": "python3"
  },
  "language_info": {
   "codemirror_mode": {
    "name": "ipython",
    "version": 3
   },
   "file_extension": ".py",
   "mimetype": "text/x-python",
   "name": "python",
   "nbconvert_exporter": "python",
   "pygments_lexer": "ipython3",
   "version": "3.9.7"
  }
 },
 "nbformat": 4,
 "nbformat_minor": 5
}
